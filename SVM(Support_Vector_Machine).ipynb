{
  "nbformat": 4,
  "nbformat_minor": 0,
  "metadata": {
    "colab": {
      "provenance": [],
      "authorship_tag": "ABX9TyM6NBU5yZmv14gJmSLe830M",
      "include_colab_link": true
    },
    "kernelspec": {
      "name": "python3",
      "display_name": "Python 3"
    },
    "language_info": {
      "name": "python"
    }
  },
  "cells": [
    {
      "cell_type": "markdown",
      "metadata": {
        "id": "view-in-github",
        "colab_type": "text"
      },
      "source": [
        "<a href=\"https://colab.research.google.com/github/tmanas06/tessolve-training-Ai-Ml/blob/main/SVM(Support_Vector_Machine).ipynb\" target=\"_parent\"><img src=\"https://colab.research.google.com/assets/colab-badge.svg\" alt=\"Open In Colab\"/></a>"
      ]
    },
    {
      "cell_type": "markdown",
      "source": [
        "Goal : Train SVM classifier on the raw pixel intensities and then classify unkown digits"
      ],
      "metadata": {
        "id": "TmiW40SGQyHZ"
      }
    },
    {
      "cell_type": "code",
      "source": [
        "from __future__ import print_function\n",
        "from sklearn import datasets\n",
        "from skimage import exposure\n",
        "import numpy as np\n",
        "import imutils\n",
        "import cv2"
      ],
      "metadata": {
        "id": "Au5JybiAQ7IJ"
      },
      "execution_count": 2,
      "outputs": []
    },
    {
      "cell_type": "code",
      "source": [
        "mnist = datasets.load_digits()"
      ],
      "metadata": {
        "id": "59M0hi-XSecv"
      },
      "execution_count": 3,
      "outputs": []
    },
    {
      "cell_type": "code",
      "source": [
        "from sklearn.model_selection import train_test_split"
      ],
      "metadata": {
        "id": "FYVtAL_jlmo2"
      },
      "execution_count": 4,
      "outputs": []
    },
    {
      "cell_type": "code",
      "source": [
        "(trainData ,testData ,trainLabels ,testLabels) = train_test_split(np.array(mnist.data),mnist.target,test_size=0.25,random_state=42)"
      ],
      "metadata": {
        "id": "PxEfsx2ul65H"
      },
      "execution_count": 5,
      "outputs": []
    },
    {
      "cell_type": "code",
      "source": [
        "(trainData,valData,trainLabels,valLabels) = train_test_split(trainData,trainLabels,test_size=0.1,random_state=84)"
      ],
      "metadata": {
        "id": "_Ix3VGAMnAQg"
      },
      "execution_count": 6,
      "outputs": []
    },
    {
      "cell_type": "code",
      "source": [
        "print('training data points: {}'.format(len(trainLabels)))\n",
        "print('Validation data points: {}'.format(len(testLabels)))\n",
        "print('testing data points: {}'.format(len(valLabels)))"
      ],
      "metadata": {
        "colab": {
          "base_uri": "https://localhost:8080/"
        },
        "id": "KC-OYCGVoYiD",
        "outputId": "694a4736-f449-47ea-e39d-fc7fb14f86cb"
      },
      "execution_count": 7,
      "outputs": [
        {
          "output_type": "stream",
          "name": "stdout",
          "text": [
            "training data points: 1212\n",
            "Validation data points: 450\n",
            "testing data points: 135\n"
          ]
        }
      ]
    },
    {
      "cell_type": "code",
      "source": [
        "from sklearn.svm import SVC\n",
        "model = SVC(C=0.5,kernel='linear')\n",
        "model.fit(trainData, trainLabels)\n",
        "score = model.score(valData, valLabels)\n",
        "print(score)"
      ],
      "metadata": {
        "colab": {
          "base_uri": "https://localhost:8080/"
        },
        "id": "jp9EUqe_pOoj",
        "outputId": "db866e82-5c8a-4ccb-eb6d-ae43fc792154"
      },
      "execution_count": 12,
      "outputs": [
        {
          "output_type": "stream",
          "name": "stdout",
          "text": [
            "0.9851851851851852\n"
          ]
        }
      ]
    },
    {
      "cell_type": "code",
      "source": [
        "from sklearn.metrics import classification_report\n",
        "predictions = model.predict(testData)\n",
        "print(\"EVALUATION ON TESTING DATA\")\n",
        "report = (classification_report(testLabels, predictions, output_dict=True))\n",
        "print(report)"
      ],
      "metadata": {
        "colab": {
          "base_uri": "https://localhost:8080/"
        },
        "id": "4IPUCqZMq8x2",
        "outputId": "4ab439a7-de4f-49cf-f0e0-adc6c13b1d8b"
      },
      "execution_count": 13,
      "outputs": [
        {
          "output_type": "stream",
          "name": "stdout",
          "text": [
            "EVALUATION ON TESTING DATA\n",
            "{'0': {'precision': 1.0, 'recall': 1.0, 'f1-score': 1.0, 'support': 43}, '1': {'precision': 0.9487179487179487, 'recall': 1.0, 'f1-score': 0.9736842105263158, 'support': 37}, '2': {'precision': 0.9743589743589743, 'recall': 1.0, 'f1-score': 0.9870129870129869, 'support': 38}, '3': {'precision': 0.9777777777777777, 'recall': 0.9565217391304348, 'f1-score': 0.967032967032967, 'support': 46}, '4': {'precision': 0.9818181818181818, 'recall': 0.9818181818181818, 'f1-score': 0.9818181818181818, 'support': 55}, '5': {'precision': 0.9666666666666667, 'recall': 0.9830508474576272, 'f1-score': 0.9747899159663865, 'support': 59}, '6': {'precision': 0.9782608695652174, 'recall': 1.0, 'f1-score': 0.989010989010989, 'support': 45}, '7': {'precision': 1.0, 'recall': 0.975609756097561, 'f1-score': 0.9876543209876543, 'support': 41}, '8': {'precision': 1.0, 'recall': 0.9473684210526315, 'f1-score': 0.972972972972973, 'support': 38}, '9': {'precision': 0.9787234042553191, 'recall': 0.9583333333333334, 'f1-score': 0.968421052631579, 'support': 48}, 'accuracy': 0.98, 'macro avg': {'precision': 0.9806323823160087, 'recall': 0.980270227888977, 'f1-score': 0.9802397597960033, 'support': 450}, 'weighted avg': {'precision': 0.9803106194977919, 'recall': 0.98, 'f1-score': 0.9799676355261724, 'support': 450}}\n"
          ]
        }
      ]
    },
    {
      "cell_type": "code",
      "source": [
        "from google.colab.patches import cv2_imshow\n",
        "random_indices = np.random.randint(0,high = len(testLabels), size=(5,))\n",
        "\n",
        "for i in random_indices:\n",
        "  image = testData[i]\n",
        "  prediction = model.predict(image.reshape(1,-1))[0]\n",
        "  image = image.reshape((8,8)).astype(\"uint8\")\n",
        "  image = exposure.rescale_intensity(image,out_range=(0,255))\n",
        "  image = imutils.resize(image, width=32,inter=cv2.INTER_CUBIC)\n",
        "  print(\"I think the digit is: {}\".format(prediction))\n",
        "  cv2_imshow(image)"
      ],
      "metadata": {
        "colab": {
          "base_uri": "https://localhost:8080/",
          "height": 264
        },
        "id": "nl2X3h8TsXI-",
        "outputId": "fdbee9ca-64cd-4960-92cd-101bc27f05ee"
      },
      "execution_count": 20,
      "outputs": [
        {
          "output_type": "stream",
          "name": "stdout",
          "text": [
            "I think the digit is: 5\n"
          ]
        },
        {
          "output_type": "display_data",
          "data": {
            "text/plain": [
              "<PIL.Image.Image image mode=L size=32x32>"
            ],
            "image/png": "[encoded data removed]"
          },
          "metadata": {}
        },
        {
          "output_type": "stream",
          "name": "stdout",
          "text": [
            "I think the digit is: 1\n"
          ]
        },
        {
          "output_type": "display_data",
          "data": {
            "text/plain": [
              "<PIL.Image.Image image mode=L size=32x32>"
            ],
            "image/png": "[encoded data removed]"
          },
          "metadata": {}
        },
        {
          "output_type": "stream",
          "name": "stdout",
          "text": [
            "I think the digit is: 3\n"
          ]
        },
        {
          "output_type": "display_data",
          "data": {
            "text/plain": [
              "<PIL.Image.Image image mode=L size=32x32>"
            ],
            "image/png": "[encoded data removed]"
          },
          "metadata": {}
        },
        {
          "output_type": "stream",
          "name": "stdout",
          "text": [
            "I think the digit is: 1\n"
          ]
        },
        {
          "output_type": "display_data",
          "data": {
            "text/plain": [
              "<PIL.Image.Image image mode=L size=32x32>"
            ],
            "image/png": "[encoded data removed]"
          },
          "metadata": {}
        },
        {
          "output_type": "stream",
          "name": "stdout",
          "text": [
            "I think the digit is: 8\n"
          ]
        },
        {
          "output_type": "display_data",
          "data": {
            "text/plain": [
              "<PIL.Image.Image image mode=L size=32x32>"
            ],
            "image/png": "[encoded data removed]"
          },
          "metadata": {}
        }
      ]
    },
    {
      "cell_type": "code",
      "source": [],
      "metadata": {
        "id": "qrGeVBQR054m"
      },
      "execution_count": null,
      "outputs": []
    }
  ]
}